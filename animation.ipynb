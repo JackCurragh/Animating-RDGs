{
 "cells": [
  {
   "cell_type": "code",
   "execution_count": 1,
   "metadata": {},
   "outputs": [
    {
     "name": "stdout",
     "output_type": "stream",
     "text": [
      "Collecting matplotlib\n",
      "  Obtaining dependency information for matplotlib from https://files.pythonhosted.org/packages/b5/24/aaccf324ce862bb82277e8814d2aebbb2a2c160d04e95aa2b8c9dc3137a9/matplotlib-3.8.0-cp310-cp310-manylinux_2_17_x86_64.manylinux2014_x86_64.whl.metadata\n",
      "  Using cached matplotlib-3.8.0-cp310-cp310-manylinux_2_17_x86_64.manylinux2014_x86_64.whl.metadata (5.8 kB)\n",
      "Collecting contourpy>=1.0.1 (from matplotlib)\n",
      "  Obtaining dependency information for contourpy>=1.0.1 from https://files.pythonhosted.org/packages/f1/6b/e4b0f8708f22dd7c321f87eadbb98708975e115ac6582eb46d1f32197ce6/contourpy-1.1.1-cp310-cp310-manylinux_2_17_x86_64.manylinux2014_x86_64.whl.metadata\n",
      "  Using cached contourpy-1.1.1-cp310-cp310-manylinux_2_17_x86_64.manylinux2014_x86_64.whl.metadata (5.9 kB)\n",
      "Collecting cycler>=0.10 (from matplotlib)\n",
      "  Obtaining dependency information for cycler>=0.10 from https://files.pythonhosted.org/packages/2b/b3/70c33027c4918c10ccf176014b38f8b91cb18ac018a78854543a4fc72609/cycler-0.12.0-py3-none-any.whl.metadata\n",
      "  Downloading cycler-0.12.0-py3-none-any.whl.metadata (3.8 kB)\n",
      "Collecting fonttools>=4.22.0 (from matplotlib)\n",
      "  Obtaining dependency information for fonttools>=4.22.0 from https://files.pythonhosted.org/packages/30/fd/821dc3ba5d179bd9b20bf9a9c2251132a8f1067818d19fcafc987727ddaa/fonttools-4.43.0-cp310-cp310-manylinux_2_17_x86_64.manylinux2014_x86_64.whl.metadata\n",
      "  Downloading fonttools-4.43.0-cp310-cp310-manylinux_2_17_x86_64.manylinux2014_x86_64.whl.metadata (151 kB)\n",
      "\u001b[2K     \u001b[90m━━━━━━━━━━━━━━━━━━━━━━━━━━━━━━━━━━━━━\u001b[0m \u001b[32m151.9/151.9 kB\u001b[0m \u001b[31m438.3 kB/s\u001b[0m eta \u001b[36m0:00:00\u001b[0ma \u001b[36m0:00:01\u001b[0m\n",
      "\u001b[?25hCollecting kiwisolver>=1.0.1 (from matplotlib)\n",
      "  Obtaining dependency information for kiwisolver>=1.0.1 from https://files.pythonhosted.org/packages/6f/40/4ab1fdb57fced80ce5903f04ae1aed7c1d5939dda4fd0c0aa526c12fe28a/kiwisolver-1.4.5-cp310-cp310-manylinux_2_12_x86_64.manylinux2010_x86_64.whl.metadata\n",
      "  Using cached kiwisolver-1.4.5-cp310-cp310-manylinux_2_12_x86_64.manylinux2010_x86_64.whl.metadata (6.4 kB)\n",
      "Collecting numpy<2,>=1.21 (from matplotlib)\n",
      "  Obtaining dependency information for numpy<2,>=1.21 from https://files.pythonhosted.org/packages/9b/5a/f265a1ba3641d16b5480a217a6aed08cceef09cd173b568cd5351053472a/numpy-1.26.0-cp310-cp310-manylinux_2_17_x86_64.manylinux2014_x86_64.whl.metadata\n",
      "  Using cached numpy-1.26.0-cp310-cp310-manylinux_2_17_x86_64.manylinux2014_x86_64.whl.metadata (58 kB)\n",
      "Requirement already satisfied: packaging>=20.0 in ./.conda/lib/python3.10/site-packages (from matplotlib) (23.2)\n",
      "Collecting pillow>=6.2.0 (from matplotlib)\n",
      "  Obtaining dependency information for pillow>=6.2.0 from https://files.pythonhosted.org/packages/7a/07/e896b096a77375e78e02ce222ae4fd6014928cd76c691d312060a1645dfa/Pillow-10.0.1-cp310-cp310-manylinux_2_28_x86_64.whl.metadata\n",
      "  Using cached Pillow-10.0.1-cp310-cp310-manylinux_2_28_x86_64.whl.metadata (9.5 kB)\n",
      "Collecting pyparsing>=2.3.1 (from matplotlib)\n",
      "  Obtaining dependency information for pyparsing>=2.3.1 from https://files.pythonhosted.org/packages/39/92/8486ede85fcc088f1b3dba4ce92dd29d126fd96b0008ea213167940a2475/pyparsing-3.1.1-py3-none-any.whl.metadata\n",
      "  Using cached pyparsing-3.1.1-py3-none-any.whl.metadata (5.1 kB)\n",
      "Requirement already satisfied: python-dateutil>=2.7 in /home/jack/.local/lib/python3.10/site-packages (from matplotlib) (2.8.2)\n",
      "Requirement already satisfied: six>=1.5 in /home/jack/.local/lib/python3.10/site-packages (from python-dateutil>=2.7->matplotlib) (1.16.0)\n",
      "Using cached matplotlib-3.8.0-cp310-cp310-manylinux_2_17_x86_64.manylinux2014_x86_64.whl (11.6 MB)\n",
      "Using cached contourpy-1.1.1-cp310-cp310-manylinux_2_17_x86_64.manylinux2014_x86_64.whl (301 kB)\n",
      "Downloading cycler-0.12.0-py3-none-any.whl (8.2 kB)\n",
      "Downloading fonttools-4.43.0-cp310-cp310-manylinux_2_17_x86_64.manylinux2014_x86_64.whl (4.5 MB)\n",
      "\u001b[2K   \u001b[90m━━━━━━━━━━━━━━━━━━━━━━━━━━━━━━━━━━━━━━━━\u001b[0m \u001b[32m4.5/4.5 MB\u001b[0m \u001b[31m688.8 kB/s\u001b[0m eta \u001b[36m0:00:00\u001b[0m00:01\u001b[0m00:01\u001b[0m\n",
      "\u001b[?25hUsing cached kiwisolver-1.4.5-cp310-cp310-manylinux_2_12_x86_64.manylinux2010_x86_64.whl (1.6 MB)\n",
      "Using cached numpy-1.26.0-cp310-cp310-manylinux_2_17_x86_64.manylinux2014_x86_64.whl (18.2 MB)\n",
      "Using cached Pillow-10.0.1-cp310-cp310-manylinux_2_28_x86_64.whl (3.6 MB)\n",
      "Using cached pyparsing-3.1.1-py3-none-any.whl (103 kB)\n",
      "Installing collected packages: pyparsing, pillow, numpy, kiwisolver, fonttools, cycler, contourpy, matplotlib\n",
      "Successfully installed contourpy-1.1.1 cycler-0.12.0 fonttools-4.43.0 kiwisolver-1.4.5 matplotlib-3.8.0 numpy-1.26.0 pillow-10.0.1 pyparsing-3.1.1\n",
      "Note: you may need to restart the kernel to use updated packages.\n"
     ]
    }
   ],
   "source": [
    "%pip install matplotlib"
   ]
  },
  {
   "cell_type": "code",
   "execution_count": 2,
   "metadata": {},
   "outputs": [
    {
     "data": {
      "image/png": "[encoded data removed]",
      "text/plain": [
       "<Figure size 640x480 with 1 Axes>"
      ]
     },
     "metadata": {},
     "output_type": "display_data"
    }
   ],
   "source": [
    "import matplotlib.pyplot as plt\n",
    "import matplotlib.animation as animation\n",
    "import numpy as np\n",
    "\n",
    "def init():\n",
    "    line.set_data([], [])\n",
    "    return line,\n",
    "\n",
    "def animate(frame):\n",
    "    x = np.linspace(0, 2 * np.pi, 1000)\n",
    "    y = np.sin(2 * np.pi * (x - 0.01 * frame))\n",
    "    line.set_data(x, y)\n",
    "    return line,\n",
    "\n",
    "fig, ax = plt.subplots()\n",
    "line, = ax.plot([], [], lw=2)\n",
    "num_frames = 100\n",
    "frame_interval = 50  # in milliseconds\n",
    "ani = animation.FuncAnimation(fig, animate, init_func=init, frames=num_frames, interval=frame_interval, blit=True)\n",
    "\n",
    "# Display the animation in a Jupyter Notebook or IPython\n",
    "from IPython.display import HTML\n",
    "HTML(ani.to_jshtml())\n",
    "\n",
    "# Save the animation as a video file (requires ffmpeg)\n",
    "ani.save(\"animation.mp4\", writer=\"ffmpeg\")\n",
    "\n",
    "plt.show()\n"
   ]
  },
  {
   "cell_type": "code",
   "execution_count": 32,
   "metadata": {},
   "outputs": [
    {
     "data": {
      "image/png": "[encoded data removed]",
      "text/plain": [
       "<Figure size 640x480 with 1 Axes>"
      ]
     },
     "metadata": {},
     "output_type": "display_data"
    }
   ],
   "source": [
    "import matplotlib.pyplot as plt\n",
    "import matplotlib.animation as animation\n",
    "\n",
    "# Define the shape's properties\n",
    "shape_x = 0  # Initial x-coordinate of the shape\n",
    "shape_y = 0  # Y-coordinate of the shape (assuming it stays constant)\n",
    "shape_width = 2  # Width of the shape\n",
    "shape_height = 4  # Height of the shape\n",
    "\n",
    "# Function to initialize the plot\n",
    "def init():\n",
    "    ax.add_patch(circle)\n",
    "    return circle2, circle\n",
    "\n",
    "# Function to update the position of the shape in each frame\n",
    "def animate(frame):\n",
    "    global shape_x\n",
    "    # Update the x-coordinate to move the shape to the right\n",
    "    shape_x += 0.1  # Adjust the speed of movement by changing this value\n",
    "    # Update the shape's position\n",
    "    circle.center = (shape_x + shape_width / 2, shape_y + shape_height / 2)\n",
    "    # circle2.center = (shape_x + shape_width / 2, shape_y + shape_height / 2)\n",
    "    return circle, circle2\n",
    "\n",
    "# Create the figure and axis\n",
    "fig, ax = plt.subplots()\n",
    "\n",
    "# Create a patch of two overlapping cirles\n",
    "circle = plt.Circle((0, 0), 1, fc='b')\n",
    "circle2 = plt.Circle((10, 0), 1, fc='r')\n",
    "\n",
    "\n",
    "# Add the rectangle to the axis\n",
    "\n",
    "num_frames = 50  # Number of frames\n",
    "frame_interval = 10  # Time interval between frames in milliseconds\n",
    "\n",
    "# Create the animation\n",
    "ani = animation.FuncAnimation(fig, animate, init_func=init, frames=num_frames, interval=frame_interval, blit=True)\n",
    "\n",
    "# Set the axis limits to show the entire animation\n",
    "ax.set_xlim(0, 10)  # Adjust the x-axis limits as needed\n",
    "ax.set_ylim(0, 5)   # Adjust the y-axis limits as needed\n",
    "\n",
    "# Display the animation in a Jupyter Notebook or IPython\n",
    "from IPython.display import HTML\n",
    "HTML(ani.to_jshtml())\n",
    "\n",
    "# Save the animation as a video file (requires ffmpeg)\n",
    "ani.save(\"shape_animation.mp4\", writer=\"ffmpeg\")\n",
    "\n",
    "plt.show()\n"
   ]
  },
  {
   "cell_type": "code",
   "execution_count": 37,
   "metadata": {},
   "outputs": [
    {
     "data": {
      "image/png": "[encoded data removed]",
      "text/plain": [
       "<Figure size 640x480 with 1 Axes>"
      ]
     },
     "metadata": {},
     "output_type": "display_data"
    }
   ],
   "source": [
    "import matplotlib.pyplot as plt\n",
    "import numpy as np\n",
    "from matplotlib.animation import FuncAnimation\n",
    "\n",
    "# Define the path points\n",
    "path_points = [(0, 1), (1, 1), (1, 2), (2, 2)]  # Add more points as needed\n",
    "\n",
    "# Create a figure and axis\n",
    "fig, ax = plt.subplots()\n",
    "\n",
    "# Create two merged circles as the shape to animate\n",
    "circle1 = plt.Circle((0, 0), 0.2, fc='blue', ec=None)\n",
    "circle2 = plt.Circle((0, 0), 0.2, fc='blue', ec=None)\n",
    "\n",
    "# Add the circles to the axis\n",
    "ax.add_patch(circle1)\n",
    "ax.add_patch(circle2)\n",
    "\n",
    "# Set axis limits based on your path\n",
    "ax.set_xlim(min(p[0] for p in path_points) - 0.5, max(p[0] for p in path_points) + 0.5)\n",
    "ax.set_ylim(min(p[1] for p in path_points) - 0.5, max(p[1] for p in path_points) + 0.5)\n",
    "\n",
    "# Function to update the animation frame\n",
    "def update(frame):\n",
    "    x, y = path_points[frame]\n",
    "    circle1.set_center((x, y))\n",
    "    circle2.set_center((x + 0.2, y))  # Offset for the second circle\n",
    "\n",
    "# Create the animation\n",
    "ani = FuncAnimation(fig, update, frames=len(path_points), repeat=False)\n",
    "# Display the animation in a Jupyter Notebook or IPython\n",
    "from IPython.display import HTML\n",
    "HTML(ani.to_jshtml())\n",
    "\n",
    "# Save the animation as a video file (requires ffmpeg)\n",
    "ani.save(\"shape_animation.mp4\", writer=\"ffmpeg\")\n",
    "# Display the animation\n",
    "plt.show()\n"
   ]
  },
  {
   "cell_type": "code",
   "execution_count": 47,
   "metadata": {},
   "outputs": [
    {
     "data": {
      "image/png": "[encoded data removed]",
      "text/plain": [
       "<Figure size 640x480 with 1 Axes>"
      ]
     },
     "metadata": {},
     "output_type": "display_data"
    }
   ],
   "source": [
    "import matplotlib.pyplot as plt\n",
    "import numpy as np\n",
    "from matplotlib.animation import FuncAnimation\n",
    "\n",
    "# Define the path points\n",
    "path_points = [(0, 1), (1, 1), (1, 2), (2, 2)]  # Add more points as needed\n",
    "\n",
    "# Create a figure and axis\n",
    "fig, ax = plt.subplots()\n",
    "\n",
    "# Create two merged circles as the shape to animate\n",
    "circle1 = plt.Circle((0, 0), 0.15, fc='black', ec=None)\n",
    "circle2 = plt.Circle((0, 0), 0.12, fc='black', ec=None)\n",
    "\n",
    "# Add the circles to the axis\n",
    "ax.add_patch(circle1)\n",
    "ax.add_patch(circle2)\n",
    "\n",
    "# Set axis limits based on your path\n",
    "ax.set_xlim(min(p[0] for p in path_points) - 0.5, max(p[0] for p in path_points) + 0.5)\n",
    "ax.set_ylim(min(p[1] for p in path_points) - 0.5, max(p[1] for p in path_points) + 0.5)\n",
    "\n",
    "# Function to update the animation frame\n",
    "def update(frame):\n",
    "    x, y = path_points[frame]\n",
    "    circle1.set_center((x, y))\n",
    "    circle2.set_center((x, y - 0.1))  # Both circles share the same center\n",
    "\n",
    "# Create the animation\n",
    "animation = FuncAnimation(fig, update, frames=len(path_points), repeat=False)\n",
    "from IPython.display import HTML\n",
    "HTML(animation.to_jshtml())\n",
    "\n",
    "# Save the animation as a video file (requires ffmpeg)\n",
    "animation.save(\"shape_animation_path.mp4\", writer=\"ffmpeg\")\n",
    "# Display the animation\n",
    "plt.show()\n"
   ]
  },
  {
   "cell_type": "code",
   "execution_count": null,
   "metadata": {},
   "outputs": [],
   "source": [
    "import matplotlib.pyplot as plt\n",
    "import numpy as np\n",
    "from matplotlib.animation import FuncAnimation\n",
    "\n",
    "# Define the path points\n",
    "path_points = [(0, 1), (1, 1), (1, 2), (2, 2)]  # Add more points as needed\n",
    "\n",
    "# Create a figure and axis\n",
    "fig, ax = plt.subplots()\n",
    "\n",
    "# Create the background figure (e.g., a scatter plot)\n",
    "background_data = np.random.rand(10, 2)  # Sample data for the background plot\n",
    "background_plot = ax.scatter(background_data[:, 0], background_data[:, 1], c='gray', marker='o')\n",
    "\n",
    "# Create two merged circles as the shape to animate with different sizes\n",
    "circle1 = plt.Circle((0, 0), 0.15, fc='blue', ec='black')  # Change the radius here\n",
    "circle2 = plt.Circle((0, 0), 0.1, fc='red', ec='black')   # Change the radius here\n",
    "\n",
    "# Add the circles to the axis\n",
    "ax.add_patch(circle1)\n",
    "ax.add_patch(circle2)\n",
    "\n",
    "# Set axis limits based on your path\n",
    "ax.set_xlim(min(p[0] for p in path_points) - 0.5, max(p[0] for p in path_points) + 0.5)\n",
    "ax.set_ylim(min(p[1] for p in path_points) - 0.5, max(p[1] for p in path_points) + 0.5)\n",
    "\n",
    "# Function to update the animation frame\n",
    "def update(frame):\n",
    "    x, y = path_points[frame]\n",
    "    circle1.set_center((x, y))\n",
    "    circle2.set_center((x, y))  # Both circles share the same center\n",
    "\n",
    "# Create the animation\n",
    "animation = FuncAnimation(fig, update, frames=len(path_points), repeat=False)\n",
    "from IPython.display import HTML\n",
    "HTML(animation.to_jshtml())\n",
    "\n",
    "# Save the animation as a video file (requires ffmpeg)\n",
    "animation.save(\"shape_animation_path.mp4\", writer=\"ffmpeg\")\n",
    "# Display the animation\n",
    "plt.show()"
   ]
  }
 ],
 "metadata": {
  "kernelspec": {
   "display_name": "Python 3",
   "language": "python",
   "name": "python3"
  },
  "language_info": {
   "codemirror_mode": {
    "name": "ipython",
    "version": 3
   },
   "file_extension": ".py",
   "mimetype": "text/x-python",
   "name": "python",
   "nbconvert_exporter": "python",
   "pygments_lexer": "ipython3",
   "version": "3.10.12"
  },
  "orig_nbformat": 4
 },
 "nbformat": 4,
 "nbformat_minor": 2
}
